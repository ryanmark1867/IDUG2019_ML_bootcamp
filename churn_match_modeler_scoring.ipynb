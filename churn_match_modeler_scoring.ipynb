{
 "cells": [
  {
   "cell_type": "markdown",
   "metadata": {
    "slideshow": {
     "slide_type": "slide"
    }
   },
   "source": [
    "# Customer Churn Prediction: applying the model to predict whether a given client will churn\n",
    "\n",
    "\n",
    "Adapted from original by Heba El-Shimy https://raw.githubusercontent.com/IBM/customer-churn-prediction/master/notebooks/customer-churn-prediction.ipynb \n",
    "\n",
    "-------------------\n",
    "\n",
    "- This article: https://medium.com/@markryan_69718/watson-studio-desktop-first-impressions-5a85309597d0 describes adapting the original Python-based churn solution described here: https://developer.ibm.com/patterns/predict-customer-churn-using-watson-studio-and-jupyter-notebooks/\n",
    "- the article describes a simple Modeler flow https://github.com/ryanmark1867/shared_ml/blob/master/churn%20flow%20Feb%202019.str?raw=true that implements a subset of the original Python-based churn solution\n",
    "\n",
    "This notebook adapts the approach in the main notebook https://github.com/ryanmark1867/IDUG2019_ML_bootcamp/blob/master/churn_match_modeler.ipynb by incorporating the data preparation steps from that notebook in an sklearn pipeline. By using a pipeline:\n",
    "- you can train the data preparation steps and the model itself in one pass\n",
    "- you can conveniently apply the trained model to new clients to predict whether or not they will churn\n",
    "\n",
    "\n"
   ]
  },
  {
   "cell_type": "markdown",
   "metadata": {
    "slideshow": {
     "slide_type": "slide"
    }
   },
   "source": [
    "# Load Libraries"
   ]
  },
  {
   "cell_type": "code",
   "execution_count": 44,
   "metadata": {},
   "outputs": [
    {
     "name": "stdout",
     "output_type": "stream",
     "text": [
      "Requirement already satisfied: ipywidgets in /opt/conda/envs/DSX-Python35/lib/python3.5/site-packages (7.1.1)\n",
      "Requirement already satisfied: ipykernel>=4.5.1 in /opt/conda/envs/DSX-Python35/lib/python3.5/site-packages (from ipywidgets) (4.8.2)\n",
      "Requirement already satisfied: traitlets>=4.3.1 in /opt/conda/envs/DSX-Python35/lib/python3.5/site-packages (from ipywidgets) (4.3.2)\n",
      "Requirement already satisfied: nbformat>=4.2.0 in /opt/conda/envs/DSX-Python35/lib/python3.5/site-packages (from ipywidgets) (4.4.0)\n",
      "Requirement already satisfied: widgetsnbextension~=3.1.0 in /opt/conda/envs/DSX-Python35/lib/python3.5/site-packages (from ipywidgets) (3.1.0)\n",
      "Requirement already satisfied: ipython>=4.0.0 in /opt/conda/envs/DSX-Python35/lib/python3.5/site-packages (from ipywidgets) (6.1.0)\n",
      "Requirement already satisfied: jupyter_client in /opt/conda/envs/DSX-Python35/lib/python3.5/site-packages (from ipykernel>=4.5.1->ipywidgets) (5.1.0)\n",
      "Requirement already satisfied: tornado>=4.0 in /opt/conda/envs/DSX-Python35/lib/python3.5/site-packages (from ipykernel>=4.5.1->ipywidgets) (4.5.2)\n",
      "Requirement already satisfied: ipython_genutils in /opt/conda/envs/DSX-Python35/lib/python3.5/site-packages (from traitlets>=4.3.1->ipywidgets) (0.2.0)\n",
      "Requirement already satisfied: six in /opt/conda/envs/DSX-Python35/lib/python3.5/site-packages (from traitlets>=4.3.1->ipywidgets) (1.11.0)\n",
      "Requirement already satisfied: decorator in /opt/conda/envs/DSX-Python35/lib/python3.5/site-packages (from traitlets>=4.3.1->ipywidgets) (4.1.2)\n",
      "Requirement already satisfied: jsonschema!=2.5.0,>=2.4 in /opt/conda/envs/DSX-Python35/lib/python3.5/site-packages (from nbformat>=4.2.0->ipywidgets) (2.6.0)\n",
      "Requirement already satisfied: jupyter_core in /opt/conda/envs/DSX-Python35/lib/python3.5/site-packages (from nbformat>=4.2.0->ipywidgets) (4.3.0)\n",
      "Requirement already satisfied: notebook>=4.4.1 in /opt/conda/envs/DSX-Python35/lib/python3.5/site-packages (from widgetsnbextension~=3.1.0->ipywidgets) (5.2.1)\n",
      "Requirement already satisfied: setuptools>=18.5 in /opt/conda/envs/DSX-Python35/lib/python3.5/site-packages (from ipython>=4.0.0->ipywidgets) (36.5.0.post20170921)\n",
      "Requirement already satisfied: jedi>=0.10 in /opt/conda/envs/DSX-Python35/lib/python3.5/site-packages (from ipython>=4.0.0->ipywidgets) (0.10.2)\n",
      "Requirement already satisfied: pickleshare in /opt/conda/envs/DSX-Python35/lib/python3.5/site-packages (from ipython>=4.0.0->ipywidgets) (0.7.4)\n",
      "Requirement already satisfied: simplegeneric>0.8 in /opt/conda/envs/DSX-Python35/lib/python3.5/site-packages (from ipython>=4.0.0->ipywidgets) (0.8.1)\n",
      "Requirement already satisfied: prompt_toolkit<2.0.0,>=1.0.4 in /opt/conda/envs/DSX-Python35/lib/python3.5/site-packages (from ipython>=4.0.0->ipywidgets) (1.0.15)\n",
      "Requirement already satisfied: pygments in /opt/conda/envs/DSX-Python35/lib/python3.5/site-packages (from ipython>=4.0.0->ipywidgets) (2.2.0)\n",
      "Requirement already satisfied: pexpect in /opt/conda/envs/DSX-Python35/lib/python3.5/site-packages (from ipython>=4.0.0->ipywidgets) (4.2.1)\n",
      "Requirement already satisfied: pyzmq>=13 in /opt/conda/envs/DSX-Python35/lib/python3.5/site-packages (from jupyter_client->ipykernel>=4.5.1->ipywidgets) (17.0.0)\n",
      "Requirement already satisfied: python-dateutil>=2.1 in /opt/conda/envs/DSX-Python35/lib/python3.5/site-packages (from jupyter_client->ipykernel>=4.5.1->ipywidgets) (2.6.1)\n",
      "Requirement already satisfied: wcwidth in /opt/conda/envs/DSX-Python35/lib/python3.5/site-packages (from prompt_toolkit<2.0.0,>=1.0.4->ipython>=4.0.0->ipywidgets) (0.1.7)\n",
      "\u001b[31mtensorflow 1.3.0 requires tensorflow-tensorboard<0.2.0,>=0.1.0, which is not installed.\u001b[0m\n"
     ]
    }
   ],
   "source": [
    "# ensure library loaded for data entry controls\n",
    "! pip install ipywidgets"
   ]
  },
  {
   "cell_type": "code",
   "execution_count": 45,
   "metadata": {
    "scrolled": true,
    "slideshow": {
     "slide_type": "fragment"
    }
   },
   "outputs": [],
   "source": [
    "import os\n",
    "import pandas as pd\n",
    "import numpy as np\n",
    "import seaborn as sns\n",
    "import matplotlib.pyplot as plt\n",
    "from sklearn import preprocessing, svm\n",
    "from itertools import combinations\n",
    "from sklearn.preprocessing import PolynomialFeatures, LabelEncoder, StandardScaler\n",
    "import sklearn.feature_selection\n",
    "from sklearn.model_selection import train_test_split\n",
    "from collections import defaultdict\n",
    "from sklearn import metrics\n",
    "from scipy import stats\n",
    "from scipy.stats import zscore\n",
    "from sklearn.model_selection import train_test_split\n",
    "from sklearn.metrics import accuracy_score\n",
    "from sklearn.metrics import average_precision_score\n",
    "from sklearn.pipeline import Pipeline\n",
    "from sklearn.base import TransformerMixin\n",
    "from sklearn.base import BaseEstimator\n",
    "from sklearn.linear_model import LogisticRegression\n",
    "import ipywidgets as widgets\n",
    "import ipywidgets as widgets\n",
    "from ipywidgets import interact, interact_manual\n",
    "# define dictionary of interactively entered values\n",
    "val = {}\n",
    "\n",
    "\n",
    "testproportion = 0.3\n"
   ]
  },
  {
   "cell_type": "markdown",
   "metadata": {
    "slideshow": {
     "slide_type": "slide"
    }
   },
   "source": [
    "# The Dataset\n",
    "\n",
    "The same dataset used in this notebook was used in the Modeler flow described above: https://community.watsonanalytics.com/wp-content/uploads/2015/03/WA_Fn-UseC_-Telco-Customer-Churn.csv\n"
   ]
  },
  {
   "cell_type": "markdown",
   "metadata": {
    "slideshow": {
     "slide_type": "slide"
    }
   },
   "source": [
    "# Ingest Dataset\n",
    "\n",
    "- the cell below brings the dataset into a Pandas dataframe directly from the repo using the URL of the CSV file\n",
    "\n"
   ]
  },
  {
   "cell_type": "code",
   "execution_count": 46,
   "metadata": {},
   "outputs": [
    {
     "data": {
      "text/html": [
       "<div>\n",
       "<style scoped>\n",
       "    .dataframe tbody tr th:only-of-type {\n",
       "        vertical-align: middle;\n",
       "    }\n",
       "\n",
       "    .dataframe tbody tr th {\n",
       "        vertical-align: top;\n",
       "    }\n",
       "\n",
       "    .dataframe thead th {\n",
       "        text-align: right;\n",
       "    }\n",
       "</style>\n",
       "<table border=\"1\" class=\"dataframe\">\n",
       "  <thead>\n",
       "    <tr style=\"text-align: right;\">\n",
       "      <th></th>\n",
       "      <th>customerID</th>\n",
       "      <th>gender</th>\n",
       "      <th>SeniorCitizen</th>\n",
       "      <th>Partner</th>\n",
       "      <th>Dependents</th>\n",
       "      <th>tenure</th>\n",
       "      <th>PhoneService</th>\n",
       "      <th>MultipleLines</th>\n",
       "      <th>InternetService</th>\n",
       "      <th>OnlineSecurity</th>\n",
       "      <th>...</th>\n",
       "      <th>DeviceProtection</th>\n",
       "      <th>TechSupport</th>\n",
       "      <th>StreamingTV</th>\n",
       "      <th>StreamingMovies</th>\n",
       "      <th>Contract</th>\n",
       "      <th>PaperlessBilling</th>\n",
       "      <th>PaymentMethod</th>\n",
       "      <th>MonthlyCharges</th>\n",
       "      <th>TotalCharges</th>\n",
       "      <th>Churn</th>\n",
       "    </tr>\n",
       "  </thead>\n",
       "  <tbody>\n",
       "    <tr>\n",
       "      <th>0</th>\n",
       "      <td>7590-VHVEG</td>\n",
       "      <td>Female</td>\n",
       "      <td>0</td>\n",
       "      <td>Yes</td>\n",
       "      <td>No</td>\n",
       "      <td>1</td>\n",
       "      <td>No</td>\n",
       "      <td>No phone service</td>\n",
       "      <td>DSL</td>\n",
       "      <td>No</td>\n",
       "      <td>...</td>\n",
       "      <td>No</td>\n",
       "      <td>No</td>\n",
       "      <td>No</td>\n",
       "      <td>No</td>\n",
       "      <td>Month-to-month</td>\n",
       "      <td>Yes</td>\n",
       "      <td>Electronic check</td>\n",
       "      <td>29.85</td>\n",
       "      <td>29.85</td>\n",
       "      <td>No</td>\n",
       "    </tr>\n",
       "    <tr>\n",
       "      <th>1</th>\n",
       "      <td>5575-GNVDE</td>\n",
       "      <td>Male</td>\n",
       "      <td>0</td>\n",
       "      <td>No</td>\n",
       "      <td>No</td>\n",
       "      <td>34</td>\n",
       "      <td>Yes</td>\n",
       "      <td>No</td>\n",
       "      <td>DSL</td>\n",
       "      <td>Yes</td>\n",
       "      <td>...</td>\n",
       "      <td>Yes</td>\n",
       "      <td>No</td>\n",
       "      <td>No</td>\n",
       "      <td>No</td>\n",
       "      <td>One year</td>\n",
       "      <td>No</td>\n",
       "      <td>Mailed check</td>\n",
       "      <td>56.95</td>\n",
       "      <td>1889.50</td>\n",
       "      <td>No</td>\n",
       "    </tr>\n",
       "    <tr>\n",
       "      <th>2</th>\n",
       "      <td>3668-QPYBK</td>\n",
       "      <td>Male</td>\n",
       "      <td>0</td>\n",
       "      <td>No</td>\n",
       "      <td>No</td>\n",
       "      <td>2</td>\n",
       "      <td>Yes</td>\n",
       "      <td>No</td>\n",
       "      <td>DSL</td>\n",
       "      <td>Yes</td>\n",
       "      <td>...</td>\n",
       "      <td>No</td>\n",
       "      <td>No</td>\n",
       "      <td>No</td>\n",
       "      <td>No</td>\n",
       "      <td>Month-to-month</td>\n",
       "      <td>Yes</td>\n",
       "      <td>Mailed check</td>\n",
       "      <td>53.85</td>\n",
       "      <td>108.15</td>\n",
       "      <td>Yes</td>\n",
       "    </tr>\n",
       "    <tr>\n",
       "      <th>3</th>\n",
       "      <td>7795-CFOCW</td>\n",
       "      <td>Male</td>\n",
       "      <td>0</td>\n",
       "      <td>No</td>\n",
       "      <td>No</td>\n",
       "      <td>45</td>\n",
       "      <td>No</td>\n",
       "      <td>No phone service</td>\n",
       "      <td>DSL</td>\n",
       "      <td>Yes</td>\n",
       "      <td>...</td>\n",
       "      <td>Yes</td>\n",
       "      <td>Yes</td>\n",
       "      <td>No</td>\n",
       "      <td>No</td>\n",
       "      <td>One year</td>\n",
       "      <td>No</td>\n",
       "      <td>Bank transfer (automatic)</td>\n",
       "      <td>42.30</td>\n",
       "      <td>1840.75</td>\n",
       "      <td>No</td>\n",
       "    </tr>\n",
       "    <tr>\n",
       "      <th>4</th>\n",
       "      <td>9237-HQITU</td>\n",
       "      <td>Female</td>\n",
       "      <td>0</td>\n",
       "      <td>No</td>\n",
       "      <td>No</td>\n",
       "      <td>2</td>\n",
       "      <td>Yes</td>\n",
       "      <td>No</td>\n",
       "      <td>Fiber optic</td>\n",
       "      <td>No</td>\n",
       "      <td>...</td>\n",
       "      <td>No</td>\n",
       "      <td>No</td>\n",
       "      <td>No</td>\n",
       "      <td>No</td>\n",
       "      <td>Month-to-month</td>\n",
       "      <td>Yes</td>\n",
       "      <td>Electronic check</td>\n",
       "      <td>70.70</td>\n",
       "      <td>151.65</td>\n",
       "      <td>Yes</td>\n",
       "    </tr>\n",
       "  </tbody>\n",
       "</table>\n",
       "<p>5 rows × 21 columns</p>\n",
       "</div>"
      ],
      "text/plain": [
       "   customerID  gender  SeniorCitizen Partner Dependents  tenure PhoneService  \\\n",
       "0  7590-VHVEG  Female              0     Yes         No       1           No   \n",
       "1  5575-GNVDE    Male              0      No         No      34          Yes   \n",
       "2  3668-QPYBK    Male              0      No         No       2          Yes   \n",
       "3  7795-CFOCW    Male              0      No         No      45           No   \n",
       "4  9237-HQITU  Female              0      No         No       2          Yes   \n",
       "\n",
       "      MultipleLines InternetService OnlineSecurity  ...   DeviceProtection  \\\n",
       "0  No phone service             DSL             No  ...                 No   \n",
       "1                No             DSL            Yes  ...                Yes   \n",
       "2                No             DSL            Yes  ...                 No   \n",
       "3  No phone service             DSL            Yes  ...                Yes   \n",
       "4                No     Fiber optic             No  ...                 No   \n",
       "\n",
       "  TechSupport StreamingTV StreamingMovies        Contract PaperlessBilling  \\\n",
       "0          No          No              No  Month-to-month              Yes   \n",
       "1          No          No              No        One year               No   \n",
       "2          No          No              No  Month-to-month              Yes   \n",
       "3         Yes          No              No        One year               No   \n",
       "4          No          No              No  Month-to-month              Yes   \n",
       "\n",
       "               PaymentMethod MonthlyCharges  TotalCharges  Churn  \n",
       "0           Electronic check          29.85         29.85     No  \n",
       "1               Mailed check          56.95       1889.50     No  \n",
       "2               Mailed check          53.85        108.15    Yes  \n",
       "3  Bank transfer (automatic)          42.30       1840.75     No  \n",
       "4           Electronic check          70.70        151.65    Yes  \n",
       "\n",
       "[5 rows x 21 columns]"
      ]
     },
     "execution_count": 46,
     "metadata": {},
     "output_type": "execute_result"
    }
   ],
   "source": [
    "url=\"https://raw.githubusercontent.com/ryanmark1867/june2019_ML_bootcamp/master/WA_Fn-UseC_-Telco-Customer-Churn.csv\"\n",
    "customer_data = pd.read_csv(url)\n",
    "customer_data_orig = customer_data.copy()\n",
    "customer_data.head()\n",
    "\n"
   ]
  },
  {
   "cell_type": "code",
   "execution_count": 47,
   "metadata": {},
   "outputs": [
    {
     "data": {
      "text/plain": [
       "(7043, 21)"
      ]
     },
     "execution_count": 47,
     "metadata": {},
     "output_type": "execute_result"
    }
   ],
   "source": [
    "customer_data.shape"
   ]
  },
  {
   "cell_type": "markdown",
   "metadata": {},
   "source": [
    "# Define column subsets\n",
    "\n",
    "- retain_columns - the list of columns from the original dataset that you want to train the model on\n",
    "- categorical_columns - the subset of columns that are categorical (where the values need to be replaced with numeric values)\n",
    "- continuous_columns - the subset of columns that are number values (where the values need to be scaled and outliers needs to be dealt with)"
   ]
  },
  {
   "cell_type": "code",
   "execution_count": 48,
   "metadata": {},
   "outputs": [],
   "source": [
    "# define the columns that we are going to keep\n",
    "# retain_columns = ['MonthlyCharges','TotalCharges','InternetService','PaymentMethod','OnlineSecurity','Churn','Contract','tenure']\n",
    "categorical_columns = ['InternetService', 'PaymentMethod', 'OnlineSecurity', 'Contract']\n",
    "continuous_columns = ['MonthlyCharges', 'TotalCharges','tenure']\n",
    "retain_columns = ['MonthlyCharges','TotalCharges','InternetService','PaymentMethod','OnlineSecurity','Contract','tenure']"
   ]
  },
  {
   "cell_type": "code",
   "execution_count": 49,
   "metadata": {},
   "outputs": [
    {
     "data": {
      "text/plain": [
       "array(['DSL', 'Fiber optic', 'No'], dtype=object)"
      ]
     },
     "execution_count": 49,
     "metadata": {},
     "output_type": "execute_result"
    }
   ],
   "source": [
    "# get the unique values for the categorical columns - we will need these later\n",
    "# to get input values to test the model\n",
    "InternetService_list = customer_data['InternetService'].unique()\n",
    "PaymentMethod_list = customer_data['PaymentMethod'].unique()\n",
    "OnlineSecurity_list = customer_data['OnlineSecurity'].unique()\n",
    "Contract_list = customer_data['Contract'].unique()\n",
    "InternetService_list"
   ]
  },
  {
   "cell_type": "markdown",
   "metadata": {},
   "source": [
    "# Split the dataset into test and train\n",
    "\n",
    "The following code splits the dataset into test and train subsets for both X (the columns used to train the model) and y (the target: Churn):\n",
    "\n",
    "- train: subset of the data used to train the models\n",
    "- test: subset of the data held back from training so it can be used to assess the accuracy of the model on predicting churn on data that it has not seen before\n"
   ]
  },
  {
   "cell_type": "code",
   "execution_count": 50,
   "metadata": {
    "scrolled": true,
    "slideshow": {
     "slide_type": "subslide"
    }
   },
   "outputs": [
    {
     "name": "stdout",
     "output_type": "stream",
     "text": [
      "(4930, 20) (4930,)\n",
      "(2113, 20) (2113,)\n"
     ]
    }
   ],
   "source": [
    "# define label\n",
    "y_le = customer_data['Churn']\n",
    "# transform label\n",
    "label_le = LabelEncoder()\n",
    "label_le.fit(y_le.tolist())\n",
    "y_le = label_le.transform(y_le)\n",
    "# define input values\n",
    "X_selected = customer_data.drop(['Churn'],axis=1)\n",
    "X_train, X_test, y_train, y_test = train_test_split(X_selected, y_le,\\\n",
    "                                                    test_size=testproportion, random_state=42)\n",
    "print(X_train.shape, y_train.shape)\n",
    "print(X_test.shape, y_test.shape)"
   ]
  },
  {
   "cell_type": "code",
   "execution_count": 51,
   "metadata": {},
   "outputs": [
    {
     "data": {
      "text/html": [
       "<div>\n",
       "<style scoped>\n",
       "    .dataframe tbody tr th:only-of-type {\n",
       "        vertical-align: middle;\n",
       "    }\n",
       "\n",
       "    .dataframe tbody tr th {\n",
       "        vertical-align: top;\n",
       "    }\n",
       "\n",
       "    .dataframe thead th {\n",
       "        text-align: right;\n",
       "    }\n",
       "</style>\n",
       "<table border=\"1\" class=\"dataframe\">\n",
       "  <thead>\n",
       "    <tr style=\"text-align: right;\">\n",
       "      <th></th>\n",
       "      <th>customerID</th>\n",
       "      <th>gender</th>\n",
       "      <th>SeniorCitizen</th>\n",
       "      <th>Partner</th>\n",
       "      <th>Dependents</th>\n",
       "      <th>tenure</th>\n",
       "      <th>PhoneService</th>\n",
       "      <th>MultipleLines</th>\n",
       "      <th>InternetService</th>\n",
       "      <th>OnlineSecurity</th>\n",
       "      <th>OnlineBackup</th>\n",
       "      <th>DeviceProtection</th>\n",
       "      <th>TechSupport</th>\n",
       "      <th>StreamingTV</th>\n",
       "      <th>StreamingMovies</th>\n",
       "      <th>Contract</th>\n",
       "      <th>PaperlessBilling</th>\n",
       "      <th>PaymentMethod</th>\n",
       "      <th>MonthlyCharges</th>\n",
       "      <th>TotalCharges</th>\n",
       "    </tr>\n",
       "  </thead>\n",
       "  <tbody>\n",
       "    <tr>\n",
       "      <th>185</th>\n",
       "      <td>1024-GUALD</td>\n",
       "      <td>Female</td>\n",
       "      <td>0</td>\n",
       "      <td>Yes</td>\n",
       "      <td>No</td>\n",
       "      <td>1</td>\n",
       "      <td>No</td>\n",
       "      <td>No phone service</td>\n",
       "      <td>DSL</td>\n",
       "      <td>No</td>\n",
       "      <td>No</td>\n",
       "      <td>No</td>\n",
       "      <td>No</td>\n",
       "      <td>No</td>\n",
       "      <td>No</td>\n",
       "      <td>Month-to-month</td>\n",
       "      <td>Yes</td>\n",
       "      <td>Electronic check</td>\n",
       "      <td>24.80</td>\n",
       "      <td>24.80</td>\n",
       "    </tr>\n",
       "    <tr>\n",
       "      <th>2715</th>\n",
       "      <td>0484-JPBRU</td>\n",
       "      <td>Male</td>\n",
       "      <td>0</td>\n",
       "      <td>No</td>\n",
       "      <td>No</td>\n",
       "      <td>41</td>\n",
       "      <td>Yes</td>\n",
       "      <td>Yes</td>\n",
       "      <td>No</td>\n",
       "      <td>No internet service</td>\n",
       "      <td>No internet service</td>\n",
       "      <td>No internet service</td>\n",
       "      <td>No internet service</td>\n",
       "      <td>No internet service</td>\n",
       "      <td>No internet service</td>\n",
       "      <td>Month-to-month</td>\n",
       "      <td>Yes</td>\n",
       "      <td>Bank transfer (automatic)</td>\n",
       "      <td>25.25</td>\n",
       "      <td>996.45</td>\n",
       "    </tr>\n",
       "    <tr>\n",
       "      <th>3825</th>\n",
       "      <td>3620-EHIMZ</td>\n",
       "      <td>Female</td>\n",
       "      <td>0</td>\n",
       "      <td>Yes</td>\n",
       "      <td>Yes</td>\n",
       "      <td>52</td>\n",
       "      <td>Yes</td>\n",
       "      <td>No</td>\n",
       "      <td>No</td>\n",
       "      <td>No internet service</td>\n",
       "      <td>No internet service</td>\n",
       "      <td>No internet service</td>\n",
       "      <td>No internet service</td>\n",
       "      <td>No internet service</td>\n",
       "      <td>No internet service</td>\n",
       "      <td>Two year</td>\n",
       "      <td>No</td>\n",
       "      <td>Mailed check</td>\n",
       "      <td>19.35</td>\n",
       "      <td>1031.70</td>\n",
       "    </tr>\n",
       "    <tr>\n",
       "      <th>1807</th>\n",
       "      <td>6910-HADCM</td>\n",
       "      <td>Female</td>\n",
       "      <td>0</td>\n",
       "      <td>No</td>\n",
       "      <td>No</td>\n",
       "      <td>1</td>\n",
       "      <td>Yes</td>\n",
       "      <td>No</td>\n",
       "      <td>Fiber optic</td>\n",
       "      <td>No</td>\n",
       "      <td>No</td>\n",
       "      <td>Yes</td>\n",
       "      <td>No</td>\n",
       "      <td>No</td>\n",
       "      <td>No</td>\n",
       "      <td>Month-to-month</td>\n",
       "      <td>No</td>\n",
       "      <td>Electronic check</td>\n",
       "      <td>76.35</td>\n",
       "      <td>76.35</td>\n",
       "    </tr>\n",
       "    <tr>\n",
       "      <th>132</th>\n",
       "      <td>8587-XYZSF</td>\n",
       "      <td>Male</td>\n",
       "      <td>0</td>\n",
       "      <td>No</td>\n",
       "      <td>No</td>\n",
       "      <td>67</td>\n",
       "      <td>Yes</td>\n",
       "      <td>No</td>\n",
       "      <td>DSL</td>\n",
       "      <td>No</td>\n",
       "      <td>No</td>\n",
       "      <td>No</td>\n",
       "      <td>Yes</td>\n",
       "      <td>No</td>\n",
       "      <td>No</td>\n",
       "      <td>Two year</td>\n",
       "      <td>No</td>\n",
       "      <td>Bank transfer (automatic)</td>\n",
       "      <td>50.55</td>\n",
       "      <td>3260.10</td>\n",
       "    </tr>\n",
       "  </tbody>\n",
       "</table>\n",
       "</div>"
      ],
      "text/plain": [
       "      customerID  gender  SeniorCitizen Partner Dependents  tenure  \\\n",
       "185   1024-GUALD  Female              0     Yes         No       1   \n",
       "2715  0484-JPBRU    Male              0      No         No      41   \n",
       "3825  3620-EHIMZ  Female              0     Yes        Yes      52   \n",
       "1807  6910-HADCM  Female              0      No         No       1   \n",
       "132   8587-XYZSF    Male              0      No         No      67   \n",
       "\n",
       "     PhoneService     MultipleLines InternetService       OnlineSecurity  \\\n",
       "185            No  No phone service             DSL                   No   \n",
       "2715          Yes               Yes              No  No internet service   \n",
       "3825          Yes                No              No  No internet service   \n",
       "1807          Yes                No     Fiber optic                   No   \n",
       "132           Yes                No             DSL                   No   \n",
       "\n",
       "             OnlineBackup     DeviceProtection          TechSupport  \\\n",
       "185                    No                   No                   No   \n",
       "2715  No internet service  No internet service  No internet service   \n",
       "3825  No internet service  No internet service  No internet service   \n",
       "1807                   No                  Yes                   No   \n",
       "132                    No                   No                  Yes   \n",
       "\n",
       "              StreamingTV      StreamingMovies        Contract  \\\n",
       "185                    No                   No  Month-to-month   \n",
       "2715  No internet service  No internet service  Month-to-month   \n",
       "3825  No internet service  No internet service        Two year   \n",
       "1807                   No                   No  Month-to-month   \n",
       "132                    No                   No        Two year   \n",
       "\n",
       "     PaperlessBilling              PaymentMethod  MonthlyCharges  TotalCharges  \n",
       "185               Yes           Electronic check           24.80         24.80  \n",
       "2715              Yes  Bank transfer (automatic)           25.25        996.45  \n",
       "3825               No               Mailed check           19.35       1031.70  \n",
       "1807               No           Electronic check           76.35         76.35  \n",
       "132                No  Bank transfer (automatic)           50.55       3260.10  "
      ]
     },
     "execution_count": 51,
     "metadata": {},
     "output_type": "execute_result"
    }
   ],
   "source": [
    "X_test.head()"
   ]
  },
  {
   "cell_type": "code",
   "execution_count": 52,
   "metadata": {},
   "outputs": [
    {
     "data": {
      "text/plain": [
       "array([1, 0, 0, ..., 0, 0, 0])"
      ]
     },
     "execution_count": 52,
     "metadata": {},
     "output_type": "execute_result"
    }
   ],
   "source": [
    "y_test"
   ]
  },
  {
   "cell_type": "code",
   "execution_count": 53,
   "metadata": {},
   "outputs": [
    {
     "data": {
      "text/html": [
       "<div>\n",
       "<style scoped>\n",
       "    .dataframe tbody tr th:only-of-type {\n",
       "        vertical-align: middle;\n",
       "    }\n",
       "\n",
       "    .dataframe tbody tr th {\n",
       "        vertical-align: top;\n",
       "    }\n",
       "\n",
       "    .dataframe thead th {\n",
       "        text-align: right;\n",
       "    }\n",
       "</style>\n",
       "<table border=\"1\" class=\"dataframe\">\n",
       "  <thead>\n",
       "    <tr style=\"text-align: right;\">\n",
       "      <th></th>\n",
       "      <th>customerID</th>\n",
       "      <th>gender</th>\n",
       "      <th>SeniorCitizen</th>\n",
       "      <th>Partner</th>\n",
       "      <th>Dependents</th>\n",
       "      <th>tenure</th>\n",
       "      <th>PhoneService</th>\n",
       "      <th>MultipleLines</th>\n",
       "      <th>InternetService</th>\n",
       "      <th>OnlineSecurity</th>\n",
       "      <th>OnlineBackup</th>\n",
       "      <th>DeviceProtection</th>\n",
       "      <th>TechSupport</th>\n",
       "      <th>StreamingTV</th>\n",
       "      <th>StreamingMovies</th>\n",
       "      <th>Contract</th>\n",
       "      <th>PaperlessBilling</th>\n",
       "      <th>PaymentMethod</th>\n",
       "      <th>MonthlyCharges</th>\n",
       "      <th>TotalCharges</th>\n",
       "    </tr>\n",
       "  </thead>\n",
       "  <tbody>\n",
       "    <tr>\n",
       "      <th>5522</th>\n",
       "      <td>2619-WFQWU</td>\n",
       "      <td>Female</td>\n",
       "      <td>0</td>\n",
       "      <td>No</td>\n",
       "      <td>No</td>\n",
       "      <td>1</td>\n",
       "      <td>Yes</td>\n",
       "      <td>No</td>\n",
       "      <td>Fiber optic</td>\n",
       "      <td>No</td>\n",
       "      <td>No</td>\n",
       "      <td>No</td>\n",
       "      <td>No</td>\n",
       "      <td>No</td>\n",
       "      <td>No</td>\n",
       "      <td>Month-to-month</td>\n",
       "      <td>Yes</td>\n",
       "      <td>Mailed check</td>\n",
       "      <td>70.15</td>\n",
       "      <td>70.15</td>\n",
       "    </tr>\n",
       "    <tr>\n",
       "      <th>6377</th>\n",
       "      <td>7851-FLGGQ</td>\n",
       "      <td>Male</td>\n",
       "      <td>0</td>\n",
       "      <td>No</td>\n",
       "      <td>No</td>\n",
       "      <td>1</td>\n",
       "      <td>No</td>\n",
       "      <td>No phone service</td>\n",
       "      <td>DSL</td>\n",
       "      <td>No</td>\n",
       "      <td>Yes</td>\n",
       "      <td>No</td>\n",
       "      <td>Yes</td>\n",
       "      <td>No</td>\n",
       "      <td>Yes</td>\n",
       "      <td>Month-to-month</td>\n",
       "      <td>Yes</td>\n",
       "      <td>Mailed check</td>\n",
       "      <td>44.65</td>\n",
       "      <td>44.65</td>\n",
       "    </tr>\n",
       "    <tr>\n",
       "      <th>5500</th>\n",
       "      <td>7139-JZFVG</td>\n",
       "      <td>Male</td>\n",
       "      <td>0</td>\n",
       "      <td>Yes</td>\n",
       "      <td>Yes</td>\n",
       "      <td>60</td>\n",
       "      <td>Yes</td>\n",
       "      <td>No</td>\n",
       "      <td>DSL</td>\n",
       "      <td>Yes</td>\n",
       "      <td>Yes</td>\n",
       "      <td>Yes</td>\n",
       "      <td>No</td>\n",
       "      <td>No</td>\n",
       "      <td>No</td>\n",
       "      <td>Two year</td>\n",
       "      <td>No</td>\n",
       "      <td>Bank transfer (automatic)</td>\n",
       "      <td>60.50</td>\n",
       "      <td>3694.45</td>\n",
       "    </tr>\n",
       "    <tr>\n",
       "      <th>2392</th>\n",
       "      <td>3771-PZOBW</td>\n",
       "      <td>Male</td>\n",
       "      <td>0</td>\n",
       "      <td>No</td>\n",
       "      <td>No</td>\n",
       "      <td>20</td>\n",
       "      <td>Yes</td>\n",
       "      <td>Yes</td>\n",
       "      <td>Fiber optic</td>\n",
       "      <td>No</td>\n",
       "      <td>No</td>\n",
       "      <td>Yes</td>\n",
       "      <td>No</td>\n",
       "      <td>Yes</td>\n",
       "      <td>No</td>\n",
       "      <td>Month-to-month</td>\n",
       "      <td>Yes</td>\n",
       "      <td>Credit card (automatic)</td>\n",
       "      <td>90.70</td>\n",
       "      <td>1781.35</td>\n",
       "    </tr>\n",
       "    <tr>\n",
       "      <th>6705</th>\n",
       "      <td>3733-ZEECP</td>\n",
       "      <td>Male</td>\n",
       "      <td>0</td>\n",
       "      <td>Yes</td>\n",
       "      <td>Yes</td>\n",
       "      <td>22</td>\n",
       "      <td>Yes</td>\n",
       "      <td>No</td>\n",
       "      <td>DSL</td>\n",
       "      <td>No</td>\n",
       "      <td>No</td>\n",
       "      <td>No</td>\n",
       "      <td>Yes</td>\n",
       "      <td>No</td>\n",
       "      <td>No</td>\n",
       "      <td>Month-to-month</td>\n",
       "      <td>Yes</td>\n",
       "      <td>Electronic check</td>\n",
       "      <td>51.10</td>\n",
       "      <td>1232.90</td>\n",
       "    </tr>\n",
       "  </tbody>\n",
       "</table>\n",
       "</div>"
      ],
      "text/plain": [
       "      customerID  gender  SeniorCitizen Partner Dependents  tenure  \\\n",
       "5522  2619-WFQWU  Female              0      No         No       1   \n",
       "6377  7851-FLGGQ    Male              0      No         No       1   \n",
       "5500  7139-JZFVG    Male              0     Yes        Yes      60   \n",
       "2392  3771-PZOBW    Male              0      No         No      20   \n",
       "6705  3733-ZEECP    Male              0     Yes        Yes      22   \n",
       "\n",
       "     PhoneService     MultipleLines InternetService OnlineSecurity  \\\n",
       "5522          Yes                No     Fiber optic             No   \n",
       "6377           No  No phone service             DSL             No   \n",
       "5500          Yes                No             DSL            Yes   \n",
       "2392          Yes               Yes     Fiber optic             No   \n",
       "6705          Yes                No             DSL             No   \n",
       "\n",
       "     OnlineBackup DeviceProtection TechSupport StreamingTV StreamingMovies  \\\n",
       "5522           No               No          No          No              No   \n",
       "6377          Yes               No         Yes          No             Yes   \n",
       "5500          Yes              Yes          No          No              No   \n",
       "2392           No              Yes          No         Yes              No   \n",
       "6705           No               No         Yes          No              No   \n",
       "\n",
       "            Contract PaperlessBilling              PaymentMethod  \\\n",
       "5522  Month-to-month              Yes               Mailed check   \n",
       "6377  Month-to-month              Yes               Mailed check   \n",
       "5500        Two year               No  Bank transfer (automatic)   \n",
       "2392  Month-to-month              Yes    Credit card (automatic)   \n",
       "6705  Month-to-month              Yes           Electronic check   \n",
       "\n",
       "      MonthlyCharges  TotalCharges  \n",
       "5522           70.15         70.15  \n",
       "6377           44.65         44.65  \n",
       "5500           60.50       3694.45  \n",
       "2392           90.70       1781.35  \n",
       "6705           51.10       1232.90  "
      ]
     },
     "execution_count": 53,
     "metadata": {},
     "output_type": "execute_result"
    }
   ],
   "source": [
    "X_test.tail()\n"
   ]
  },
  {
   "cell_type": "markdown",
   "metadata": {},
   "source": [
    "# Defining a pipeline to combine data preparation and the model\n",
    "We want to predict whether a given client will churn.\n",
    "\n",
    "To predict whether a client will churn, we need to:\n",
    "- train the model\n",
    "- apply all the transforms that were performed on the training data set to the data for the client we want to score\n",
    "- feed the transformed data for this client into the trained model to predict whether or not the client will churn \n",
    "\n",
    "To make this process efficient, we will use the sklearn pipeline structure to combine all the data processing steps (selecting a subset of columns, replacing missing values, scaling & outlier processing for continuous columns, replacing categorical values with numeric IDs) together with the model.\n",
    "\n",
    "Once the pipeline has been defined, we can use it to:\n",
    "- train the data preparation steps and the model in one pass\n",
    "- make predictions (score) on data for a given client on whether or not the client will churn\n",
    "- because a pipeline combines data preparation with the model, once the pipeline is trained we can feed in a client's data and get a churn prediction \n",
    "\n",
    "There are two steps to creating the pipeline:\n",
    "1. For each data preparation step, define classes derived from the appropriate sklearn classes that specify: (a) the parameters for the step, (b) what transformations the step performs, (c) whether the training dataset defines any aspects of the transformation\n",
    "2. Build the pipeline using instances of the data preparation step classes, along with the model\n",
    "\n",
    "\n"
   ]
  },
  {
   "cell_type": "markdown",
   "metadata": {},
   "source": [
    "# Define classes for each data preparation step\n",
    "\n",
    "The sklearn pipeline structure requires classes to be defined for each data preparation step:\n",
    "- subset_columns - select the subset of columns that will be used to train the model\n",
    "- fill_empty - replace empty values with a placeholder. Note that unlike the modeler flow and the initial notebook, we apply this step to all columns.\n",
    "- encode_categorical - replace values in categorical columns with numeric IDs\n",
    "- scale_continuous - use zscore to scale continuous values\n",
    "- replace_outliers - for each continuous column, identify values that are beyond the threshold and replace those values with the threshold"
   ]
  },
  {
   "cell_type": "code",
   "execution_count": 54,
   "metadata": {},
   "outputs": [],
   "source": [
    "\n",
    "# class to subset columns\n",
    "class subset_columns(BaseEstimator, TransformerMixin):\n",
    "    \n",
    "    def set_params(self, **kwargs):\n",
    "        print(\"subsetting\")\n",
    "        self.retain_cols = kwargs.get('retain_cols', None)\n",
    "        return self\n",
    "    \n",
    "    def transform(self, X, **tranform_params):\n",
    "        print(\"subset xform\")\n",
    "        trimmed_X = X[self.retain_cols]\n",
    "        return trimmed_X\n",
    "    \n",
    "    def fit(self, X, y=None, **fit_params):\n",
    "        return self\n",
    "    \n",
    "#   class to fill empty values\n",
    "class fill_empty(BaseEstimator, TransformerMixin):\n",
    "    \n",
    "    def transform(self, X, **tranform_params):\n",
    "        print(\"fill empty xform\")\n",
    "        filled_X = X.fillna(0)\n",
    "        #print(X.loc[[0]])\n",
    "        return filled_X\n",
    "    \n",
    "    def fit(self, X, y=None, **fit_params):\n",
    "        return self\n",
    "    \n",
    "\n",
    "# encode categorical categories\n",
    "\n",
    "class encode_categorical(BaseEstimator, TransformerMixin):\n",
    "    \n",
    "    def __init__(self):\n",
    "        self.le = {}\n",
    "        return None\n",
    "    \n",
    "    def set_params(self, **kwargs):\n",
    "        self.col_list = kwargs.get('col_list', None)\n",
    "        return self\n",
    "        \n",
    "    \n",
    "    \n",
    "    def fit(self, X, y=None,  **fit_params):\n",
    "        for col in self.col_list:\n",
    "            print(\"col is \",col)\n",
    "            self.le[col] = LabelEncoder()\n",
    "            self.le[col].fit(X[col].tolist())\n",
    "        return self\n",
    "        \n",
    "    \n",
    "    def transform(self, X, y=None, **tranform_params):\n",
    "        for col in self.col_list:\n",
    "            print(\"transform col is \",col)\n",
    "            X[col] = self.le[col].transform(X[col])\n",
    "            print(\"after transform col is \",col)\n",
    "        # print(X.loc[[0]])\n",
    "        return X\n",
    "    \n",
    "\n",
    "   \n",
    "\n",
    "    \n",
    "    "
   ]
  },
  {
   "cell_type": "code",
   "execution_count": 55,
   "metadata": {},
   "outputs": [],
   "source": [
    "# scale continuous \n",
    "\n",
    "class scale_continuous(BaseEstimator, TransformerMixin):\n",
    "    \n",
    "    def __init__(self, **kwargs):\n",
    "        self.sd = {}\n",
    "        self.mean = {}\n",
    "        return None\n",
    "        \n",
    "    def set_params(self, **kwargs):\n",
    "        self.col_list = kwargs.get('col_list', None)\n",
    "        return self\n",
    "    \n",
    "    def fit(self, X, y=None,  **fit_params):\n",
    "        for col in self.col_list:\n",
    "            self.sd[col] = X.loc[:,col].std()\n",
    "            self.mean[col] = X.loc[:,col].mean()\n",
    "        return self\n",
    "                \n",
    "    \n",
    "    def transform(self, X, y=None, **tranform_params):\n",
    "        print(\"scale xform\")\n",
    "        if len(X.index) > 1:\n",
    "            X[self.col_list] = X[self.col_list].apply(zscore)\n",
    "        else:\n",
    "            for col in self.col_list:\n",
    "                X[col] = (X[col] - self.mean[col])/self.sd[col]\n",
    "        #print(X.loc[[0]])\n",
    "        return X"
   ]
  },
  {
   "cell_type": "code",
   "execution_count": 56,
   "metadata": {},
   "outputs": [],
   "source": [
    "def sd_max(x,sd,multiplier):\n",
    "    if x > multiplier*sd:\n",
    "        return multiplier*sd\n",
    "    else:\n",
    "        return x\n",
    "    \n"
   ]
  },
  {
   "cell_type": "code",
   "execution_count": 57,
   "metadata": {},
   "outputs": [],
   "source": [
    "# replace outliers\n",
    "\n",
    "class replace_outliers(BaseEstimator, TransformerMixin):\n",
    "    \n",
    "    def __init__(self, **kwargs):\n",
    "        self.sd = {}\n",
    "        return None\n",
    "    \n",
    "    def set_params(self, **kwargs):\n",
    "        self.sd_mult = kwargs.get('sd_mult', None)\n",
    "        self.col_list = kwargs.get('col_list', None)\n",
    "        return self\n",
    "     \n",
    "    def fit(self, X, y=None,  **fit_params):\n",
    "        for col in self.col_list:\n",
    "            self.sd[col] = X.loc[:,col].std()\n",
    "        return self\n",
    "    \n",
    "    def transform(self, X, y=None, **tranform_params):\n",
    "        print(\"outliers xform\")\n",
    "        for col in self.col_list:\n",
    "            # self.sd[col] = X.loc[:,col].std()\n",
    "            X[col] = X[col].apply(sd_max,args=(self.sd[col],self.sd_mult))\n",
    "        print(\"after outliers xform\")\n",
    "        # print(X.loc[[0]])\n",
    "        return X\n",
    "      "
   ]
  },
  {
   "cell_type": "code",
   "execution_count": 58,
   "metadata": {},
   "outputs": [
    {
     "data": {
      "text/plain": [
       "(4930,)"
      ]
     },
     "execution_count": 58,
     "metadata": {},
     "output_type": "execute_result"
    }
   ],
   "source": [
    "y_train.shape"
   ]
  },
  {
   "cell_type": "code",
   "execution_count": 59,
   "metadata": {},
   "outputs": [
    {
     "data": {
      "text/plain": [
       "array([0, 0, 0, ..., 0, 1, 0])"
      ]
     },
     "execution_count": 59,
     "metadata": {},
     "output_type": "execute_result"
    }
   ],
   "source": [
    "y_train"
   ]
  },
  {
   "cell_type": "markdown",
   "metadata": {},
   "source": [
    "# Build  and train the pipeline using the data preparation step classes\n",
    "\n",
    "The pipeline will be built of layers made up of the data preparation steps followed by the model. To build and train the pipeline:\n",
    "- create instances of the data preparation classes defined above\n",
    "- define the pipeline using these instances and the Logistic Regression model\n",
    "- specify any parameters for the data preparation steps and train (fit) the pipeline\n",
    "\n"
   ]
  },
  {
   "cell_type": "code",
   "execution_count": 60,
   "metadata": {},
   "outputs": [
    {
     "name": "stdout",
     "output_type": "stream",
     "text": [
      "subsetting\n",
      "fill empty xform\n",
      "subset xform\n",
      "col is  InternetService\n",
      "col is  PaymentMethod\n",
      "col is  OnlineSecurity\n",
      "col is  Contract\n",
      "transform col is  InternetService\n",
      "after transform col is  InternetService\n",
      "transform col is  PaymentMethod\n",
      "after transform col is  PaymentMethod\n",
      "transform col is  OnlineSecurity\n",
      "after transform col is  OnlineSecurity\n",
      "transform col is  Contract\n",
      "after transform col is  Contract\n",
      "scale xform\n",
      "outliers xform\n",
      "after outliers xform\n"
     ]
    },
    {
     "data": {
      "text/plain": [
       "Pipeline(memory=None,\n",
       "     steps=[('fe', fill_empty()), ('sc', subset_columns()), ('e_categorical', encode_categorical()), ('scale_c', scale_continuous()), ('ro', replace_outliers()), ('lr', LogisticRegression(C=1.0, class_weight=None, dual=False, fit_intercept=True,\n",
       "          intercept_scaling=1, max_iter=100, multi_class='ovr', n_jobs=1,\n",
       "          penalty='l2', random_state=None, solver='lbfgs', tol=0.0001,\n",
       "          verbose=0, warm_start=False))])"
      ]
     },
     "execution_count": 60,
     "metadata": {},
     "output_type": "execute_result"
    }
   ],
   "source": [
    "# define instances of the data preparation classes\n",
    "sc = subset_columns()\n",
    "ec = encode_categorical()\n",
    "fe = fill_empty()\n",
    "ro = replace_outliers()\n",
    "scale_c = scale_continuous()\n",
    "clf_lr = LogisticRegression(solver = 'lbfgs')\n",
    "\n",
    "# define the pipeline layers\n",
    "churn_pipeline = Pipeline([('fe',fe),('sc',sc),('e_categorical',ec),('scale_c',scale_c),('ro',ro),('lr',clf_lr)])\n",
    "\n",
    "\n",
    "# fit the pipeline - note that X_train is a dataframe and y_train is a (1234,) thing\n",
    "\n",
    "churn_pipeline.set_params(sc__retain_cols = retain_columns,\n",
    "                          e_categorical__col_list = categorical_columns,\n",
    "                          scale_c__col_list = continuous_columns, \n",
    "                          ro__sd_mult = 3.0, ro__col_list = continuous_columns\n",
    "                        ).fit(X_train, y_train)\n"
   ]
  },
  {
   "cell_type": "markdown",
   "metadata": {},
   "source": [
    "# Evaluate the accuracy of the pipeline\n",
    "\n",
    "Exercise the pipeline by:\n",
    "- applying the test set to the pipeline to get predictions for the test set\n",
    "- measuring the accuracy of the pipeline by comparing the predictions made for the test set with the actual Churn values for the test set"
   ]
  },
  {
   "cell_type": "code",
   "execution_count": 61,
   "metadata": {},
   "outputs": [
    {
     "name": "stdout",
     "output_type": "stream",
     "text": [
      "fill empty xform\n",
      "subset xform\n",
      "transform col is  InternetService\n",
      "after transform col is  InternetService\n",
      "transform col is  PaymentMethod\n",
      "after transform col is  PaymentMethod\n",
      "transform col is  OnlineSecurity\n",
      "after transform col is  OnlineSecurity\n",
      "transform col is  Contract\n",
      "after transform col is  Contract\n",
      "scale xform\n",
      "outliers xform\n",
      "after outliers xform\n"
     ]
    }
   ],
   "source": [
    "# predict using the pipeline\n",
    "prediction = churn_pipeline.predict(X_test)"
   ]
  },
  {
   "cell_type": "code",
   "execution_count": 62,
   "metadata": {},
   "outputs": [
    {
     "name": "stdout",
     "output_type": "stream",
     "text": [
      "0.794131566493\n"
     ]
    }
   ],
   "source": [
    "# assess the accuracy of the pipeline\n",
    "acc_lr = accuracy_score(y_test, prediction)\n",
    "print(acc_lr)"
   ]
  },
  {
   "cell_type": "markdown",
   "metadata": {},
   "source": [
    "# Enter values for the client to be scored with the pipeline\n",
    "\n",
    "The following cells allow you to interactively enter values for a client that you can score using the pipeline that you have trained above.\n",
    "\n",
    "- define controls for continuous column data entry\n",
    "- enter continuous values\n",
    "- enter categorical values"
   ]
  },
  {
   "cell_type": "code",
   "execution_count": 63,
   "metadata": {},
   "outputs": [
    {
     "name": "stderr",
     "output_type": "stream",
     "text": [
      "/opt/conda/envs/DSX-Python35/lib/python3.5/site-packages/IPython/html.py:14: ShimWarning: The `IPython.html` package has been deprecated since IPython 4.0. You should import from `notebook` instead. `IPython.html.widgets` has moved to `ipywidgets`.\n",
      "  \"`IPython.html.widgets` has moved to `ipywidgets`.\", ShimWarning)\n"
     ]
    }
   ],
   "source": [
    "# define controls for all the categorical columns\n",
    "from IPython.html.widgets import interact, interactive\n",
    "def f(InternetService):\n",
    "    print(InternetService)\n",
    "    \n",
    "def g(PaymentMethod):\n",
    "    print(PaymentMethod)\n",
    "    \n",
    "def h(OnlineSecurity):\n",
    "    print(OnlineSecurity)\n",
    "    \n",
    "def i(Contract):\n",
    "    print(Contract)\n",
    "    \n",
    "control = {}\n",
    "control['InternetService'] = interactive(f, InternetService = InternetService_list)\n",
    "control['PaymentMethod'] = interactive(g, PaymentMethod = PaymentMethod_list)\n",
    "control['OnlineSecurity'] = interactive(h, OnlineSecurity = OnlineSecurity_list)\n",
    "control['Contract'] = interactive(i, Contract = Contract_list)\n",
    "\n"
   ]
  },
  {
   "cell_type": "markdown",
   "metadata": {},
   "source": [
    "# Enter continuous values for this client\n",
    "\n",
    "Run this cell to get controls where you can interactively enter the continuous values for this client."
   ]
  },
  {
   "cell_type": "code",
   "execution_count": 64,
   "metadata": {},
   "outputs": [
    {
     "name": "stdout",
     "output_type": "stream",
     "text": [
      "what is the value for  MonthlyCharges33.4\n",
      "what is the value for  TotalCharges100.5\n",
      "what is the value for  tenure33\n"
     ]
    }
   ],
   "source": [
    "# interactively enter the continuous values\n",
    "\n",
    "for col in continuous_columns:\n",
    "    val[col] = input(\"what is the value for  \"+col)\n",
    "    val[col] = [float(val[col])]"
   ]
  },
  {
   "cell_type": "markdown",
   "metadata": {},
   "source": [
    "# Enter categorical values for this client\n",
    "\n",
    "Use the controls following this cell to enter categorical values for the new client you want to score as a churn risk.\n",
    "\n",
    "Once you have updated the controls run the cell to save them."
   ]
  },
  {
   "cell_type": "code",
   "execution_count": 65,
   "metadata": {},
   "outputs": [
    {
     "name": "stdout",
     "output_type": "stream",
     "text": [
      "Month-to-month\n"
     ]
    }
   ],
   "source": [
    "# interactively enter the categorical values.\n",
    "\n",
    "for col in categorical_columns:\n",
    "    # show control for categorical columns\n",
    "    display(control[col])\n",
    "    \n",
    "    "
   ]
  },
  {
   "cell_type": "code",
   "execution_count": 66,
   "metadata": {},
   "outputs": [
    {
     "name": "stdout",
     "output_type": "stream",
     "text": [
      "value ['DSL']\n",
      "value ['Electronic check']\n",
      "value ['No']\n",
      "value ['Month-to-month']\n"
     ]
    }
   ],
   "source": [
    "# save values selected\n",
    "for col in categorical_columns:\n",
    "    val[col] = [[*control[col].kwargs.values()][0]]\n",
    "    print(\"value\",val[col])"
   ]
  },
  {
   "cell_type": "code",
   "execution_count": 67,
   "metadata": {},
   "outputs": [
    {
     "data": {
      "text/plain": [
       "{'Contract': ['Month-to-month'],\n",
       " 'InternetService': ['DSL'],\n",
       " 'MonthlyCharges': [33.4],\n",
       " 'OnlineSecurity': ['No'],\n",
       " 'PaymentMethod': ['Electronic check'],\n",
       " 'TotalCharges': [100.5],\n",
       " 'tenure': [33.0]}"
      ]
     },
     "execution_count": 67,
     "metadata": {},
     "output_type": "execute_result"
    }
   ],
   "source": [
    "val"
   ]
  },
  {
   "cell_type": "markdown",
   "metadata": {},
   "source": [
    "# Score this client using the pipeline\n",
    "\n",
    "- take the values entered for this client and load them into a dataframe\n",
    "- run the pipeline with this dataframe as input\n",
    "- the predicted outcome for this client is the output of the pipeline for these values"
   ]
  },
  {
   "cell_type": "code",
   "execution_count": 68,
   "metadata": {},
   "outputs": [
    {
     "data": {
      "text/html": [
       "<div>\n",
       "<style scoped>\n",
       "    .dataframe tbody tr th:only-of-type {\n",
       "        vertical-align: middle;\n",
       "    }\n",
       "\n",
       "    .dataframe tbody tr th {\n",
       "        vertical-align: top;\n",
       "    }\n",
       "\n",
       "    .dataframe thead th {\n",
       "        text-align: right;\n",
       "    }\n",
       "</style>\n",
       "<table border=\"1\" class=\"dataframe\">\n",
       "  <thead>\n",
       "    <tr style=\"text-align: right;\">\n",
       "      <th></th>\n",
       "      <th>MonthlyCharges</th>\n",
       "      <th>TotalCharges</th>\n",
       "      <th>InternetService</th>\n",
       "      <th>PaymentMethod</th>\n",
       "      <th>OnlineSecurity</th>\n",
       "      <th>Contract</th>\n",
       "      <th>tenure</th>\n",
       "    </tr>\n",
       "  </thead>\n",
       "  <tbody>\n",
       "    <tr>\n",
       "      <th>0</th>\n",
       "      <td>33.4</td>\n",
       "      <td>100.5</td>\n",
       "      <td>DSL</td>\n",
       "      <td>Electronic check</td>\n",
       "      <td>No</td>\n",
       "      <td>Month-to-month</td>\n",
       "      <td>33.0</td>\n",
       "    </tr>\n",
       "  </tbody>\n",
       "</table>\n",
       "</div>"
      ],
      "text/plain": [
       "   MonthlyCharges  TotalCharges InternetService     PaymentMethod  \\\n",
       "0            33.4         100.5             DSL  Electronic check   \n",
       "\n",
       "  OnlineSecurity        Contract  tenure  \n",
       "0             No  Month-to-month    33.0  "
      ]
     },
     "execution_count": 68,
     "metadata": {},
     "output_type": "execute_result"
    }
   ],
   "source": [
    "val_df = pd.DataFrame.from_dict(val)\n",
    "val_df = val_df[['MonthlyCharges','TotalCharges','InternetService','PaymentMethod','OnlineSecurity','Contract','tenure']]\n",
    "val_df.head()"
   ]
  },
  {
   "cell_type": "code",
   "execution_count": 69,
   "metadata": {},
   "outputs": [
    {
     "name": "stdout",
     "output_type": "stream",
     "text": [
      "   MonthlyCharges  TotalCharges InternetService     PaymentMethod  \\\n",
      "0            33.4         100.5             DSL  Electronic check   \n",
      "\n",
      "  OnlineSecurity        Contract  tenure  \n",
      "0             No  Month-to-month    33.0  \n"
     ]
    }
   ],
   "source": [
    "# print(df.loc[[159220]])\n",
    "print(val_df.loc[[0]])"
   ]
  },
  {
   "cell_type": "code",
   "execution_count": 70,
   "metadata": {},
   "outputs": [
    {
     "name": "stdout",
     "output_type": "stream",
     "text": [
      "fill empty xform\n",
      "subset xform\n",
      "transform col is  InternetService\n",
      "after transform col is  InternetService\n",
      "transform col is  PaymentMethod\n",
      "after transform col is  PaymentMethod\n",
      "transform col is  OnlineSecurity\n",
      "after transform col is  OnlineSecurity\n",
      "transform col is  Contract\n",
      "after transform col is  Contract\n",
      "scale xform\n",
      "outliers xform\n",
      "after outliers xform\n"
     ]
    }
   ],
   "source": [
    "# pd.DataFrame.from_dict(data)\n",
    "\n",
    "prediction_val = churn_pipeline.predict(val_df)"
   ]
  },
  {
   "cell_type": "markdown",
   "metadata": {},
   "source": [
    "# Get the predicted outcome for this client\n",
    "\n",
    "See what the pipeline predicts for this client.\n",
    "- if prediction_val = 1, the pipeline predicts that this client will churn\n",
    "- if prediction_val = 0, the pipeline predicts that this client will not churn"
   ]
  },
  {
   "cell_type": "code",
   "execution_count": 71,
   "metadata": {},
   "outputs": [
    {
     "name": "stdout",
     "output_type": "stream",
     "text": [
      "The model predicts that this client will not churn\n"
     ]
    },
    {
     "data": {
      "text/html": [
       "<div>\n",
       "<style scoped>\n",
       "    .dataframe tbody tr th:only-of-type {\n",
       "        vertical-align: middle;\n",
       "    }\n",
       "\n",
       "    .dataframe tbody tr th {\n",
       "        vertical-align: top;\n",
       "    }\n",
       "\n",
       "    .dataframe thead th {\n",
       "        text-align: right;\n",
       "    }\n",
       "</style>\n",
       "<table border=\"1\" class=\"dataframe\">\n",
       "  <thead>\n",
       "    <tr style=\"text-align: right;\">\n",
       "      <th></th>\n",
       "      <th>MonthlyCharges</th>\n",
       "      <th>TotalCharges</th>\n",
       "      <th>InternetService</th>\n",
       "      <th>PaymentMethod</th>\n",
       "      <th>OnlineSecurity</th>\n",
       "      <th>Contract</th>\n",
       "      <th>tenure</th>\n",
       "    </tr>\n",
       "  </thead>\n",
       "  <tbody>\n",
       "    <tr>\n",
       "      <th>0</th>\n",
       "      <td>33.4</td>\n",
       "      <td>100.5</td>\n",
       "      <td>DSL</td>\n",
       "      <td>Electronic check</td>\n",
       "      <td>No</td>\n",
       "      <td>Month-to-month</td>\n",
       "      <td>33.0</td>\n",
       "    </tr>\n",
       "  </tbody>\n",
       "</table>\n",
       "</div>"
      ],
      "text/plain": [
       "   MonthlyCharges  TotalCharges InternetService     PaymentMethod  \\\n",
       "0            33.4         100.5             DSL  Electronic check   \n",
       "\n",
       "  OnlineSecurity        Contract  tenure  \n",
       "0             No  Month-to-month    33.0  "
      ]
     },
     "execution_count": 71,
     "metadata": {},
     "output_type": "execute_result"
    }
   ],
   "source": [
    "if (prediction_val == 1):\n",
    "    print(\"The model predicts that this client will churn\")\n",
    "else:\n",
    "    print(\"The model predicts that this client will not churn\")\n",
    "val_df.head()    \n",
    "    "
   ]
  },
  {
   "cell_type": "markdown",
   "metadata": {},
   "source": [
    "# Sample client values that produce Churn = Yes / Churn = No\n",
    "\n",
    "The following two cells have sample value sets that should produce Churn = Yes (prediction = 1) / Churn = No (prediction = 0)\n",
    "\n",
    "Exercise:\n",
    "- try entering variations on these values to see if you can determine which column / value combinations push these clients from one churn prediction state to another"
   ]
  },
  {
   "cell_type": "code",
   "execution_count": 72,
   "metadata": {},
   "outputs": [
    {
     "data": {
      "text/plain": [
       "\"val = {'MonthlyCharges': [90.70],\\n 'TotalCharges': [1781.35],\\n 'tenure': [20.0],\\n 'InternetService': ['Fiber optic'],\\n 'PaymentMethod': ['Credit card (automatic)'],\\n 'OnlineSecurity': ['No'],\\n 'Contract': ['Month-to-month']}\""
      ]
     },
     "execution_count": 72,
     "metadata": {},
     "output_type": "execute_result"
    }
   ],
   "source": [
    "# example of a set of input value that produces churn = yes\n",
    "'''val = {'MonthlyCharges': [90.70],\n",
    " 'TotalCharges': [1781.35],\n",
    " 'tenure': [20.0],\n",
    " 'InternetService': ['Fiber optic'],\n",
    " 'PaymentMethod': ['Credit card (automatic)'],\n",
    " 'OnlineSecurity': ['No'],\n",
    " 'Contract': ['Month-to-month']}'''"
   ]
  },
  {
   "cell_type": "code",
   "execution_count": 73,
   "metadata": {},
   "outputs": [
    {
     "data": {
      "text/plain": [
       "\"val = {'MonthlyCharges': [90.70],\\n 'TotalCharges': [178.35],\\n 'tenure': [200.0],\\n 'InternetService': ['Fiber optic'],\\n 'PaymentMethod': ['Credit card (automatic)'],\\n 'OnlineSecurity': ['No'],\\n 'Contract': ['Month-to-month']}\""
      ]
     },
     "execution_count": 73,
     "metadata": {},
     "output_type": "execute_result"
    }
   ],
   "source": [
    "# example of a set of input values that produces churn = no \n",
    "'''val = {'MonthlyCharges': [90.70],\n",
    " 'TotalCharges': [178.35],\n",
    " 'tenure': [200.0],\n",
    " 'InternetService': ['Fiber optic'],\n",
    " 'PaymentMethod': ['Credit card (automatic)'],\n",
    " 'OnlineSecurity': ['No'],\n",
    " 'Contract': ['Month-to-month']}'''"
   ]
  },
  {
   "cell_type": "markdown",
   "metadata": {},
   "source": [
    "# Experiment to determine optimal columns for the model\n",
    "\n",
    "- for simplicity's sake, we chose a subset of columns to train the model with\n",
    "- the following analysis looks for the optimal set of columns\n",
    "- first, we need to define a new pipeline that omits the column filtering and Logistic Regression layers\n",
    "- next, we apply that pipeline (careful to define a set of categorical columns that includes all the candidate columns) to the X and Y subsets of the original dataset\n",
    "- finally, we use random forest to come up with a score for the columns\n"
   ]
  },
  {
   "cell_type": "code",
   "execution_count": 74,
   "metadata": {},
   "outputs": [
    {
     "name": "stdout",
     "output_type": "stream",
     "text": [
      "fill empty xform\n",
      "col is  gender\n",
      "col is  SeniorCitizen\n",
      "col is  Partner\n",
      "col is  Dependents\n",
      "col is  PhoneService\n",
      "col is  MultipleLines\n",
      "col is  InternetService\n",
      "col is  OnlineSecurity\n",
      "col is  OnlineBackup\n",
      "col is  DeviceProtection\n",
      "col is  TechSupport\n",
      "col is  StreamingTV\n",
      "col is  StreamingMovies\n",
      "col is  Contract\n",
      "col is  PaperlessBilling\n",
      "col is  PaymentMethod\n",
      "transform col is  gender\n",
      "after transform col is  gender\n",
      "transform col is  SeniorCitizen\n",
      "after transform col is  SeniorCitizen\n",
      "transform col is  Partner\n",
      "after transform col is  Partner\n",
      "transform col is  Dependents\n",
      "after transform col is  Dependents\n",
      "transform col is  PhoneService\n",
      "after transform col is  PhoneService\n",
      "transform col is  MultipleLines\n",
      "after transform col is  MultipleLines\n",
      "transform col is  InternetService\n",
      "after transform col is  InternetService\n",
      "transform col is  OnlineSecurity\n",
      "after transform col is  OnlineSecurity\n",
      "transform col is  OnlineBackup\n",
      "after transform col is  OnlineBackup\n",
      "transform col is  DeviceProtection\n",
      "after transform col is  DeviceProtection\n",
      "transform col is  TechSupport\n",
      "after transform col is  TechSupport\n",
      "transform col is  StreamingTV\n",
      "after transform col is  StreamingTV\n",
      "transform col is  StreamingMovies\n",
      "after transform col is  StreamingMovies\n",
      "transform col is  Contract\n",
      "after transform col is  Contract\n",
      "transform col is  PaperlessBilling\n",
      "after transform col is  PaperlessBilling\n",
      "transform col is  PaymentMethod\n",
      "after transform col is  PaymentMethod\n",
      "scale xform\n"
     ]
    },
    {
     "data": {
      "text/plain": [
       "Pipeline(memory=None,\n",
       "     steps=[('fe', fill_empty()), ('e_categorical', encode_categorical()), ('scale_c', scale_continuous()), ('ro', replace_outliers())])"
      ]
     },
     "execution_count": 74,
     "metadata": {},
     "output_type": "execute_result"
    }
   ],
   "source": [
    "# define the pipeline layers just for data transformation - remove subset columns and LR layers\n",
    "transform_pipeline = Pipeline([('fe',fe),('e_categorical',ec),('scale_c',scale_c),('ro',ro)])\n",
    "\n",
    "# list of categorical columns needs to include all the categorical columns\n",
    "max_categorical_columns = [\n",
    " 'gender',\n",
    " 'SeniorCitizen',\n",
    " 'Partner',\n",
    " 'Dependents',\n",
    " 'PhoneService',\n",
    " 'MultipleLines',\n",
    " 'InternetService',\n",
    " 'OnlineSecurity',\n",
    " 'OnlineBackup',\n",
    " 'DeviceProtection',\n",
    " 'TechSupport',\n",
    " 'StreamingTV',\n",
    " 'StreamingMovies',\n",
    " 'Contract',\n",
    " 'PaperlessBilling',\n",
    " 'PaymentMethod'\n",
    "  ]\n",
    "\n",
    "# fit the transform-only pipeline - note that X_train is a dataframe and y_train is a (1234,) thing\n",
    "\n",
    "transform_pipeline.set_params(\n",
    "                          e_categorical__col_list = max_categorical_columns,\n",
    "                          scale_c__col_list = continuous_columns, \n",
    "                          ro__sd_mult = 3.0, ro__col_list = continuous_columns\n",
    "                        ).fit(X_train, y_train)"
   ]
  },
  {
   "cell_type": "code",
   "execution_count": 75,
   "metadata": {},
   "outputs": [
    {
     "name": "stdout",
     "output_type": "stream",
     "text": [
      "fill empty xform\n",
      "transform col is  gender\n",
      "after transform col is  gender\n",
      "transform col is  SeniorCitizen\n",
      "after transform col is  SeniorCitizen\n",
      "transform col is  Partner\n",
      "after transform col is  Partner\n",
      "transform col is  Dependents\n",
      "after transform col is  Dependents\n",
      "transform col is  PhoneService\n",
      "after transform col is  PhoneService\n",
      "transform col is  MultipleLines\n",
      "after transform col is  MultipleLines\n",
      "transform col is  InternetService\n",
      "after transform col is  InternetService\n",
      "transform col is  OnlineSecurity\n",
      "after transform col is  OnlineSecurity\n",
      "transform col is  OnlineBackup\n",
      "after transform col is  OnlineBackup\n",
      "transform col is  DeviceProtection\n",
      "after transform col is  DeviceProtection\n",
      "transform col is  TechSupport\n",
      "after transform col is  TechSupport\n",
      "transform col is  StreamingTV\n",
      "after transform col is  StreamingTV\n",
      "transform col is  StreamingMovies\n",
      "after transform col is  StreamingMovies\n",
      "transform col is  Contract\n",
      "after transform col is  Contract\n",
      "transform col is  PaperlessBilling\n",
      "after transform col is  PaperlessBilling\n",
      "transform col is  PaymentMethod\n",
      "after transform col is  PaymentMethod\n",
      "scale xform\n",
      "outliers xform\n",
      "after outliers xform\n"
     ]
    },
    {
     "data": {
      "text/html": [
       "<div>\n",
       "<style scoped>\n",
       "    .dataframe tbody tr th:only-of-type {\n",
       "        vertical-align: middle;\n",
       "    }\n",
       "\n",
       "    .dataframe tbody tr th {\n",
       "        vertical-align: top;\n",
       "    }\n",
       "\n",
       "    .dataframe thead th {\n",
       "        text-align: right;\n",
       "    }\n",
       "</style>\n",
       "<table border=\"1\" class=\"dataframe\">\n",
       "  <thead>\n",
       "    <tr style=\"text-align: right;\">\n",
       "      <th></th>\n",
       "      <th>customerID</th>\n",
       "      <th>gender</th>\n",
       "      <th>SeniorCitizen</th>\n",
       "      <th>Partner</th>\n",
       "      <th>Dependents</th>\n",
       "      <th>tenure</th>\n",
       "      <th>PhoneService</th>\n",
       "      <th>MultipleLines</th>\n",
       "      <th>InternetService</th>\n",
       "      <th>OnlineSecurity</th>\n",
       "      <th>...</th>\n",
       "      <th>DeviceProtection</th>\n",
       "      <th>TechSupport</th>\n",
       "      <th>StreamingTV</th>\n",
       "      <th>StreamingMovies</th>\n",
       "      <th>Contract</th>\n",
       "      <th>PaperlessBilling</th>\n",
       "      <th>PaymentMethod</th>\n",
       "      <th>MonthlyCharges</th>\n",
       "      <th>TotalCharges</th>\n",
       "      <th>Churn</th>\n",
       "    </tr>\n",
       "  </thead>\n",
       "  <tbody>\n",
       "    <tr>\n",
       "      <th>0</th>\n",
       "      <td>7590-VHVEG</td>\n",
       "      <td>0</td>\n",
       "      <td>0</td>\n",
       "      <td>1</td>\n",
       "      <td>0</td>\n",
       "      <td>-1.277445</td>\n",
       "      <td>0</td>\n",
       "      <td>1</td>\n",
       "      <td>0</td>\n",
       "      <td>0</td>\n",
       "      <td>...</td>\n",
       "      <td>0</td>\n",
       "      <td>0</td>\n",
       "      <td>0</td>\n",
       "      <td>0</td>\n",
       "      <td>0</td>\n",
       "      <td>1</td>\n",
       "      <td>2</td>\n",
       "      <td>-1.160323</td>\n",
       "      <td>-0.992611</td>\n",
       "      <td>No</td>\n",
       "    </tr>\n",
       "    <tr>\n",
       "      <th>1</th>\n",
       "      <td>5575-GNVDE</td>\n",
       "      <td>1</td>\n",
       "      <td>0</td>\n",
       "      <td>0</td>\n",
       "      <td>0</td>\n",
       "      <td>0.066327</td>\n",
       "      <td>1</td>\n",
       "      <td>0</td>\n",
       "      <td>0</td>\n",
       "      <td>2</td>\n",
       "      <td>...</td>\n",
       "      <td>2</td>\n",
       "      <td>0</td>\n",
       "      <td>0</td>\n",
       "      <td>0</td>\n",
       "      <td>1</td>\n",
       "      <td>0</td>\n",
       "      <td>3</td>\n",
       "      <td>-0.259629</td>\n",
       "      <td>-0.172165</td>\n",
       "      <td>No</td>\n",
       "    </tr>\n",
       "    <tr>\n",
       "      <th>2</th>\n",
       "      <td>3668-QPYBK</td>\n",
       "      <td>1</td>\n",
       "      <td>0</td>\n",
       "      <td>0</td>\n",
       "      <td>0</td>\n",
       "      <td>-1.236724</td>\n",
       "      <td>1</td>\n",
       "      <td>0</td>\n",
       "      <td>0</td>\n",
       "      <td>2</td>\n",
       "      <td>...</td>\n",
       "      <td>0</td>\n",
       "      <td>0</td>\n",
       "      <td>0</td>\n",
       "      <td>0</td>\n",
       "      <td>0</td>\n",
       "      <td>1</td>\n",
       "      <td>3</td>\n",
       "      <td>-0.362660</td>\n",
       "      <td>-0.958066</td>\n",
       "      <td>Yes</td>\n",
       "    </tr>\n",
       "    <tr>\n",
       "      <th>3</th>\n",
       "      <td>7795-CFOCW</td>\n",
       "      <td>1</td>\n",
       "      <td>0</td>\n",
       "      <td>0</td>\n",
       "      <td>0</td>\n",
       "      <td>0.514251</td>\n",
       "      <td>0</td>\n",
       "      <td>1</td>\n",
       "      <td>0</td>\n",
       "      <td>2</td>\n",
       "      <td>...</td>\n",
       "      <td>2</td>\n",
       "      <td>2</td>\n",
       "      <td>0</td>\n",
       "      <td>0</td>\n",
       "      <td>1</td>\n",
       "      <td>0</td>\n",
       "      <td>0</td>\n",
       "      <td>-0.746535</td>\n",
       "      <td>-0.193672</td>\n",
       "      <td>No</td>\n",
       "    </tr>\n",
       "    <tr>\n",
       "      <th>4</th>\n",
       "      <td>9237-HQITU</td>\n",
       "      <td>0</td>\n",
       "      <td>0</td>\n",
       "      <td>0</td>\n",
       "      <td>0</td>\n",
       "      <td>-1.236724</td>\n",
       "      <td>1</td>\n",
       "      <td>0</td>\n",
       "      <td>1</td>\n",
       "      <td>0</td>\n",
       "      <td>...</td>\n",
       "      <td>0</td>\n",
       "      <td>0</td>\n",
       "      <td>0</td>\n",
       "      <td>0</td>\n",
       "      <td>0</td>\n",
       "      <td>1</td>\n",
       "      <td>2</td>\n",
       "      <td>0.197365</td>\n",
       "      <td>-0.938874</td>\n",
       "      <td>Yes</td>\n",
       "    </tr>\n",
       "  </tbody>\n",
       "</table>\n",
       "<p>5 rows × 21 columns</p>\n",
       "</div>"
      ],
      "text/plain": [
       "   customerID  gender  SeniorCitizen  Partner  Dependents    tenure  \\\n",
       "0  7590-VHVEG       0              0        1           0 -1.277445   \n",
       "1  5575-GNVDE       1              0        0           0  0.066327   \n",
       "2  3668-QPYBK       1              0        0           0 -1.236724   \n",
       "3  7795-CFOCW       1              0        0           0  0.514251   \n",
       "4  9237-HQITU       0              0        0           0 -1.236724   \n",
       "\n",
       "   PhoneService  MultipleLines  InternetService  OnlineSecurity  ...    \\\n",
       "0             0              1                0               0  ...     \n",
       "1             1              0                0               2  ...     \n",
       "2             1              0                0               2  ...     \n",
       "3             0              1                0               2  ...     \n",
       "4             1              0                1               0  ...     \n",
       "\n",
       "   DeviceProtection  TechSupport  StreamingTV  StreamingMovies  Contract  \\\n",
       "0                 0            0            0                0         0   \n",
       "1                 2            0            0                0         1   \n",
       "2                 0            0            0                0         0   \n",
       "3                 2            2            0                0         1   \n",
       "4                 0            0            0                0         0   \n",
       "\n",
       "   PaperlessBilling  PaymentMethod  MonthlyCharges  TotalCharges  Churn  \n",
       "0                 1              2       -1.160323     -0.992611     No  \n",
       "1                 0              3       -0.259629     -0.172165     No  \n",
       "2                 1              3       -0.362660     -0.958066    Yes  \n",
       "3                 0              0       -0.746535     -0.193672     No  \n",
       "4                 1              2        0.197365     -0.938874    Yes  \n",
       "\n",
       "[5 rows x 21 columns]"
      ]
     },
     "execution_count": 75,
     "metadata": {},
     "output_type": "execute_result"
    }
   ],
   "source": [
    "# apply transform pipeline to input data\n",
    "transformed_customer_data = transform_pipeline.transform(customer_data_orig)\n",
    "transformed_customer_data.head()"
   ]
  },
  {
   "cell_type": "code",
   "execution_count": 76,
   "metadata": {},
   "outputs": [
    {
     "name": "stdout",
     "output_type": "stream",
     "text": [
      "Features sorted by their score:\n",
      "[(0.18720000000000001, 'MonthlyCharges'), (0.1736, 'PaymentMethod'), (0.15160000000000001, 'Dependents'), (0.10199999999999999, 'StreamingMovies'), (0.047500000000000001, 'PaperlessBilling'), (0.045699999999999998, 'InternetService'), (0.033599999999999998, 'DeviceProtection'), (0.033000000000000002, 'MultipleLines'), (0.029700000000000001, 'OnlineSecurity'), (0.028899999999999999, 'customerID'), (0.026800000000000001, 'Contract'), (0.023599999999999999, 'SeniorCitizen'), (0.021100000000000001, 'PhoneService'), (0.020199999999999999, 'gender'), (0.019, 'OnlineBackup'), (0.0189, 'Partner'), (0.017500000000000002, 'StreamingTV'), (0.0149, 'TechSupport'), (0.0051999999999999998, 'tenure')]\n"
     ]
    }
   ],
   "source": [
    "# Import `RandomForestClassifier`\n",
    "from sklearn.ensemble import RandomForestClassifier\n",
    "\n",
    "# Isolate Data, class labels and column values\n",
    "\n",
    "# X is the transformed original dataset minus customerID and churn; Y is the churn column with numeric IDs\n",
    "X = transformed_customer_data.drop(['Churn','customerID'],axis=1)\n",
    "Y = y_le\n",
    "names = customer_data.columns.values\n",
    "\n",
    "# Build the model\n",
    "rfc = RandomForestClassifier()\n",
    "\n",
    "# Fit the model\n",
    "rfc.fit(X, Y)\n",
    "\n",
    "# Print the results\n",
    "print(\"Features sorted by their score:\")\n",
    "print(sorted(zip(map(lambda x: round(x, 4), rfc.feature_importances_), names), reverse=True))"
   ]
  }
 ],
 "metadata": {
  "kernelspec": {
   "display_name": "Python 3.5",
   "language": "python",
   "name": "python3"
  },
  "language_info": {
   "codemirror_mode": {
    "name": "ipython",
    "version": 3
   },
   "file_extension": ".py",
   "mimetype": "text/x-python",
   "name": "python",
   "nbconvert_exporter": "python",
   "pygments_lexer": "ipython3",
   "version": "3.5.5"
  }
 },
 "nbformat": 4,
 "nbformat_minor": 2
}
